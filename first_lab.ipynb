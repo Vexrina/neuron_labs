{
 "cells": [
  {
   "cell_type": "code",
   "execution_count": 218,
   "metadata": {},
   "outputs": [
    {
     "name": "stdout",
     "output_type": "stream",
     "text": [
      "/home/vexrinawlw/Документы/projects/neuron_labs\n"
     ]
    }
   ],
   "source": [
    "import numpy as np\n",
    "import matplotlib as plt\n",
    "import PIL.Image as img\n",
    "from pathlib import Path\n",
    "working_dir = Path().resolve()\n",
    "print(working_dir)"
   ]
  },
  {
   "cell_type": "code",
   "execution_count": 219,
   "metadata": {},
   "outputs": [],
   "source": [
    "def convert(file_name):\n",
    "    '''\n",
    "    Перевод png файла в массив тюплов RGBA\n",
    "    (red green blue alpha)\n",
    "    '''\n",
    "    image = img.open(working_dir/file_name)\n",
    "    return image.convert('RGBA').getdata()"
   ]
  },
  {
   "cell_type": "code",
   "execution_count": 220,
   "metadata": {},
   "outputs": [],
   "source": [
    "def take_datas(letters):\n",
    "    '''\n",
    "    Перевод всех изображений в матрицу и сохранений всех матриц в отдельный массив\n",
    "    '''\n",
    "    letters_data = []\n",
    "    for letter in letters:\n",
    "        for i in range(4): # 4 - количество образов буквы\n",
    "            data = convert(f'letters/{letter}{i+1}.png')\n",
    "            letters_data.append(data)\n",
    "    return letters_data"
   ]
  },
  {
   "cell_type": "code",
   "execution_count": 221,
   "metadata": {},
   "outputs": [],
   "source": [
    "letters = ['q','h','i','w'] # буквы, для которых составлены образы\n",
    "\n",
    "datas = take_datas(letters)\n",
    "# print(len(datas))\n",
    "def tuples_to_mtx(data:list[tuple])->list[list[int]]:\n",
    "    '''\n",
    "    Конвентирует массив тюплов в матрицу, \n",
    "    где ТОЛЬКО черный цвет с alpha=255 - единица,\n",
    "    а любое другое значение - 0\n",
    "    '''\n",
    "    result = [[]]\n",
    "    i, j = 0, 0\n",
    "    for item in data:\n",
    "        if j == 32:\n",
    "            result.append([])\n",
    "            i+=1\n",
    "            j=0\n",
    "        if item[0] == 0 and item[1] == 0 and item[2] == 0 and item[3] == 255:\n",
    "            result[i].append(1)\n",
    "            j+=1\n",
    "        else:\n",
    "            result[i].append(0)\n",
    "            j+=1\n",
    "    return result\n"
   ]
  },
  {
   "cell_type": "code",
   "execution_count": 222,
   "metadata": {},
   "outputs": [],
   "source": [
    "mtxs=[]\n",
    "for data in datas:\n",
    "    mtxs.append(tuples_to_mtx(data))"
   ]
  },
  {
   "cell_type": "code",
   "execution_count": 223,
   "metadata": {},
   "outputs": [],
   "source": [
    "def print_mtx(mtx):\n",
    "    for row in mtx:\n",
    "        print(row)\n",
    "\n",
    "def mtx_to_vector(mtx):\n",
    "    result = []\n",
    "    for row in mtx:\n",
    "        for item in row:\n",
    "            result.append(item)\n",
    "    return result"
   ]
  },
  {
   "cell_type": "code",
   "execution_count": 224,
   "metadata": {},
   "outputs": [],
   "source": [
    "class Neuron:\n",
    "    def __init__(self, vectors, response):\n",
    "        self.weight = np.random.rand(4,1024)\n",
    "        self.letter_q = vectors[0]\n",
    "        self.letter_h = vectors[1]\n",
    "        self.letter_i = vectors[2]\n",
    "        self.letter_w = vectors[3]\n",
    "    \n",
    "    def weight_sum(self):\n",
    "        self.after_train = [[],[],[],[]]\n",
    "        for index in range(1024):\n",
    "            self.after_train[0].append(self.weight[0][index]*self.letter_q[index])\n",
    "            self.after_train[1].append(self.weight[1][index]*self.letter_h[index])\n",
    "            self.after_train[2].append(self.weight[2][index]*self.letter_i[index])\n",
    "            self.after_train[3].append(self.weight[3][index]*self.letter_w[index])\n",
    "        \n",
    "        self.result = []\n",
    "        for item in self.after_train:\n",
    "            self.result.append(sum(item))\n",
    "        self.predict()\n",
    "\n",
    "    def predict(self):\n",
    "        self.guess = []\n",
    "        for item in self.result:\n",
    "            if item>= 0 and item<25:\n",
    "                self.guess.append('q')\n",
    "            elif item>= 25 and item<50:\n",
    "                self.guess.append('h')\n",
    "            elif item>= 50 and item<75:\n",
    "                self.guess.append('i')\n",
    "            elif item>= 75 and item<100:\n",
    "                self.guess.append('w')"
   ]
  },
  {
   "cell_type": "code",
   "execution_count": 225,
   "metadata": {},
   "outputs": [
    {
     "name": "stdout",
     "output_type": "stream",
     "text": [
      "0.004606962203979492\n",
      "['h', 'q', 'q', 'q']\n"
     ]
    },
    {
     "data": {
      "text/plain": [
       "[35.58353619887042, 9.800392011386784, 11.027084003642285, 13.737821163001529]"
      ]
     },
     "execution_count": 225,
     "metadata": {},
     "output_type": "execute_result"
    }
   ],
   "source": [
    "vector = []\n",
    "for i in range(0,16,4):\n",
    "    vector.append(mtx_to_vector(mtxs[i]))\n",
    "N = Neuron(vector, [1,2,3,4])\n",
    "\n",
    "import time\n",
    "\n",
    "start = time.time()\n",
    "N.weight_sum()\n",
    "end = time.time()\n",
    "print(end-start)\n",
    "print(N.guess)\n",
    "N.result"
   ]
  },
  {
   "cell_type": "code",
   "execution_count": 4,
   "metadata": {},
   "outputs": [
    {
     "name": "stdout",
     "output_type": "stream",
     "text": [
      "cθδεωαπs"
     ]
    }
   ],
   "source": []
  }
 ],
 "metadata": {
  "kernelspec": {
   "display_name": "Python 3",
   "language": "python",
   "name": "python3"
  },
  "language_info": {
   "codemirror_mode": {
    "name": "ipython",
    "version": 3
   },
   "file_extension": ".py",
   "mimetype": "text/x-python",
   "name": "python",
   "nbconvert_exporter": "python",
   "pygments_lexer": "ipython3",
   "version": "3.11.2"
  },
  "orig_nbformat": 4,
  "vscode": {
   "interpreter": {
    "hash": "e7370f93d1d0cde622a1f8e1c04877d8463912d04d973331ad4851f04de6915a"
   }
  }
 },
 "nbformat": 4,
 "nbformat_minor": 2
}
