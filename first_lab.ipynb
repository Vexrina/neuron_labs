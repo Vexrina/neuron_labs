{
 "cells": [
  {
   "cell_type": "code",
   "execution_count": 97,
   "metadata": {},
   "outputs": [
    {
     "name": "stdout",
     "output_type": "stream",
     "text": [
      "/home/vexrinawlw/Документы/projects/neuron_labs\n"
     ]
    }
   ],
   "source": [
    "import numpy as np\n",
    "# import matplotlib as plt\n",
    "import PIL.Image as img\n",
    "from pathlib import Path\n",
    "import math\n",
    "working_dir = Path().resolve()\n",
    "print(working_dir)"
   ]
  },
  {
   "cell_type": "code",
   "execution_count": 98,
   "metadata": {},
   "outputs": [],
   "source": [
    "def convert(file_name):\n",
    "    '''\n",
    "    Перевод png файла в массив тюплов RGBA\n",
    "    (red green blue alpha)\n",
    "    '''\n",
    "    image = img.open(working_dir/file_name)\n",
    "    return image.convert('RGBA').getdata()"
   ]
  },
  {
   "cell_type": "code",
   "execution_count": 99,
   "metadata": {},
   "outputs": [],
   "source": [
    "def take_datas(letters):\n",
    "    '''\n",
    "    Перевод всех изображений в матрицу и сохранений всех матриц в отдельный массив\n",
    "    '''\n",
    "    letters_data = []\n",
    "    for letter in letters:\n",
    "        for i in range(4): # 4 - количество образов буквы\n",
    "            data = convert(f'letters/{letter}{i+1}.png')\n",
    "            letters_data.append(data)\n",
    "    return letters_data"
   ]
  },
  {
   "cell_type": "code",
   "execution_count": 100,
   "metadata": {},
   "outputs": [],
   "source": [
    "letters = ['q','h','i','w'] # буквы, для которых составлены образы\n",
    "\n",
    "datas = take_datas(letters)\n",
    "# print(len(datas))\n",
    "def tuples_to_mtx(data:list[tuple])->list[list[int]]:\n",
    "    '''\n",
    "    Конвентирует массив тюплов в матрицу, \n",
    "    где ТОЛЬКО черный цвет с alpha=255 - единица,\n",
    "    а любое другое значение - 0\n",
    "    '''\n",
    "    result = [[]]\n",
    "    i, j = 0, 0\n",
    "    for item in data:\n",
    "        if j == 32:\n",
    "            result.append([])\n",
    "            i+=1\n",
    "            j=0\n",
    "        if item[0] == 0 and item[1] == 0 and item[2] == 0 and item[3] == 255:\n",
    "            result[i].append(1)\n",
    "            j+=1\n",
    "        else:\n",
    "            result[i].append(0)\n",
    "            j+=1\n",
    "    return result\n"
   ]
  },
  {
   "cell_type": "code",
   "execution_count": 101,
   "metadata": {},
   "outputs": [],
   "source": [
    "mtxs=[]\n",
    "for data in datas:\n",
    "    mtxs.append(tuples_to_mtx(data))"
   ]
  },
  {
   "cell_type": "code",
   "execution_count": 102,
   "metadata": {},
   "outputs": [],
   "source": [
    "def print_mtx(mtx):\n",
    "    for row in mtx:\n",
    "        print(row)\n",
    "\n",
    "def mtx_to_vector(mtx):\n",
    "    result = []\n",
    "    for row in mtx:\n",
    "        for item in row:\n",
    "            result.append(item)\n",
    "    return result"
   ]
  },
  {
   "cell_type": "code",
   "execution_count": 103,
   "metadata": {},
   "outputs": [],
   "source": [
    "class Neuron:\n",
    "    def sigmoid(self, x: float):\n",
    "        return 1 / (1 + math.exp(-x))\n",
    "\n",
    "    def __init__(self, vectors, response, epoch:int):\n",
    "        self.weight = np.random.uniform(low=-0.03, high=0.03, size=(1024,))\n",
    "        self.letters = vectors\n",
    "        self.epoch = epoch\n",
    "    \n",
    "    def weight_sum(self):\n",
    "        letter = self.letters[0]\n",
    "        self.after_multiply = []\n",
    "        for index in range(1024):\n",
    "            self.after_multiply.append(self.weight[index]*letter[index])\n",
    "\n",
    "        self.sum = sum(self.after_multiply)\n",
    "        self.activate = self.sigmoid(self.sum)\n",
    "\n",
    "    # def train_epoch(self):\n",
    "    #     k = 0\n",
    "    #     for i in range(self.epoch):\n",
    "    #         weight_sum()\n"
   ]
  },
  {
   "cell_type": "code",
   "execution_count": 104,
   "metadata": {},
   "outputs": [
    {
     "name": "stdout",
     "output_type": "stream",
     "text": [
      "0.0019068717956542969\n"
     ]
    },
    {
     "data": {
      "text/plain": [
       "0.471438731176727"
      ]
     },
     "execution_count": 104,
     "metadata": {},
     "output_type": "execute_result"
    }
   ],
   "source": [
    "vector = []\n",
    "for i in range(0,16,4):\n",
    "    vector.append(mtx_to_vector(mtxs[i]))\n",
    "N = Neuron(vector, [1,2,3,4], 25)\n",
    "\n",
    "import time\n",
    "\n",
    "start = time.time()\n",
    "N.weight_sum()\n",
    "end = time.time()\n",
    "print(end-start)\n",
    "N.activate"
   ]
  },
  {
   "cell_type": "code",
   "execution_count": 105,
   "metadata": {},
   "outputs": [
    {
     "name": "stdout",
     "output_type": "stream",
     "text": [
      "4\n",
      "10\n"
     ]
    }
   ],
   "source": [
    "arr = np.random.uniform(low=-0.03, high=0.03, size=(4,10))\n",
    "print(len(arr))\n",
    "print(len(arr[0]))"
   ]
  }
 ],
 "metadata": {
  "kernelspec": {
   "display_name": "Python 3",
   "language": "python",
   "name": "python3"
  },
  "language_info": {
   "codemirror_mode": {
    "name": "ipython",
    "version": 3
   },
   "file_extension": ".py",
   "mimetype": "text/x-python",
   "name": "python",
   "nbconvert_exporter": "python",
   "pygments_lexer": "ipython3",
   "version": "3.11.2"
  },
  "orig_nbformat": 4,
  "vscode": {
   "interpreter": {
    "hash": "e7370f93d1d0cde622a1f8e1c04877d8463912d04d973331ad4851f04de6915a"
   }
  }
 },
 "nbformat": 4,
 "nbformat_minor": 2
}
