{
 "cells": [
  {
   "attachments": {},
   "cell_type": "markdown",
   "metadata": {},
   "source": [
    "#### Импортируем все необходимые библиотеки. Также определяем путь директории, чтобы  питон понимал, где находятся картинки для обучения/тестирования"
   ]
  },
  {
   "cell_type": "code",
   "execution_count": 1,
   "metadata": {},
   "outputs": [
    {
     "name": "stdout",
     "output_type": "stream",
     "text": [
      "C:\\Users\\Vexrina\\Desktop\\projects\\neuron_labs\n"
     ]
    }
   ],
   "source": [
    "import numpy as np\n",
    "import PIL.Image as img\n",
    "from pathlib import Path\n",
    "import matplotlib.pyplot as plt\n",
    "working_dir = Path().resolve()\n",
    "print(working_dir)"
   ]
  },
  {
   "attachments": {},
   "cell_type": "markdown",
   "metadata": {},
   "source": [
    "#### Объявляем класс Neuron, который содержит следующие функции:\n",
    "\n",
    "1. init : активируется при инициализации класса. Определяются следующие поля: *weights, name, speed, thetta*\n",
    "    - *weights* - определяются с помощью функции **np.random.uniform** в промежутке x<|3*10^-N|, где N подбирается вручную от 1 до 10, чтобы получить лучшую опредеяемость картинки. Так же это матрица размерностью 32 на 32, чтобы одно значение матрицы соответствовало одному значению пикселя.\n",
    "    - *name* - буква, которую нейрон будет определять.\n",
    "    - *speed* - скорость обучения. Если не передана в класс, то определяется рандомом от 0.05 до 1 *(методичка)*\n",
    "    - *thetta* - пороговое значение функции. Если не передано значение, то определяется рандомом от 0.05 до 1. (в методичке это не указано, поэтому выбрал значения сам)\n",
    "2. activation : функция активации, проверяет, что переданное значение sum больше, чем пороговое значение функции.\n",
    "3. learn : высчитывает сумму произведения матрицы весов на переданную матрицу в функцию. Получаем булевое значение функции активации. В зависимости от условий (булевое значение и какое имя буквы передается) изменяются веса.\n",
    "4. testing :  высчитывает сумму произведения матрицы весов на переданную матрицу в функцию. В зависимости от функции активации возвращает True или False"
   ]
  },
  {
   "cell_type": "code",
   "execution_count": 2,
   "metadata": {},
   "outputs": [],
   "source": [
    "class Neuron:\n",
    "    def __init__(\n",
    "            self, name: str,\n",
    "            thetta: float = np.random.uniform(low=0.05, high=1),\n",
    "            speed: float = np.random.uniform(low=0.05, high=1)\n",
    "    ):\n",
    "        self.weights = np.random.uniform(low=-0.00003, high=0.00003, size=(32, 32))\n",
    "        self.name = name\n",
    "        self.speed = speed\n",
    "        self.thetta = thetta\n",
    "\n",
    "    def activation(self, sum):\n",
    "        return sum >= self.thetta\n",
    "\n",
    "    def learn(self, mtx, realname):\n",
    "        summary = np.sum(self.weights.dot(mtx))\n",
    "        activate = self.activation(summary)\n",
    "        if activate and self.name != realname:\n",
    "            self.weights -= np.dot(self.speed, mtx)  # error 0-1=-1\n",
    "        elif not activate and self.name == realname:\n",
    "            self.weights += np.dot(self.speed, mtx)  # error 1-0=+1\n",
    "        # if error 1-1=0 (want 1, result 1) we cant create new weights, bc error = 0, so\n",
    "        # secont multi = speed*0*weight = 0.\n",
    "\n",
    "    def testing(self, mtx):\n",
    "        summary = np.sum(self.weights.dot(mtx))\n",
    "        if self.activation(summary):\n",
    "            return True\n",
    "        else:\n",
    "            return False\n"
   ]
  },
  {
   "attachments": {},
   "cell_type": "markdown",
   "metadata": {},
   "source": [
    "#### Объявляем класс Network со следующими функциями:\n",
    "\n",
    "1. init : объявляются все необходимые поля для работы класса, а именно:\n",
    "    - *letters* : какие буквы будут определятся нейронной сетью, т.к. эти буквы надо было выбрать самостоятельно, то я выбрал *q,h,i,w*\n",
    "    - *letters_data* : матрица Tuple'ов, где каждый элемент матрицы - RGBA, т.е. значения RGB пикселя + прозрачность пикселя\n",
    "    - *letters_mtxs* : матрица для самих значений пикселя. Я решил, что надо брать только сугубо черные пиксели, т.е. чтобы RGB = 0, а A = 255.\n",
    "    - *epoch* : количество эпох переданных в сеть. По стандарту = 50.\n",
    "    - *neurons* : список с нейронами для обучения. В них передается speed и thetta. Если они не были переданы в класс, то создаются так же как и в классе Neuron\n",
    "2. take_datas : Перевод всех изображений в матрицу и сохранений всех матриц в отдельный массив\n",
    "3. tuples_to_mtx : Конвентирует массив тюплов в матрицу, где ТОЛЬКО черный цвет с alpha=255 - единица, а любое другое значение - 0.\n",
    "4. show_weights : показывает как выглядит нейрон на данный момент времени.\n",
    "5. train : по количеству эпох, для каждой из 4х картинок одной буквы, для каждого нейрона происходит вызов функции Neuron.learn()\n",
    "6. test : перевод тестовых картинок в матрицу, прогон каждой картинки в neuron.test(), а так же вывод, это *\"letter\"* или это НЕ *\"letter\"*"
   ]
  },
  {
   "cell_type": "code",
   "execution_count": 3,
   "metadata": {},
   "outputs": [],
   "source": [
    "class Network():\n",
    "    def __init__(\n",
    "            self,\n",
    "            speed: float = np.random.uniform(low=0.05, high=1),\n",
    "            thetta: float = np.random.uniform(low=0.05, high=1),\n",
    "            epoch: int = 50\n",
    "    ):\n",
    "        self.letters = ['q', 'h', 'i', 'w']\n",
    "        self.letters_data = []\n",
    "        self.mtxs = []\n",
    "        self.take_datas()\n",
    "        for data in self.letters_data:\n",
    "            self.mtxs.append(self.tuples_to_mtx(data))\n",
    "        self.epoch = epoch\n",
    "        self.neurons = [Neuron(letter, thetta=thetta, speed=speed)\n",
    "                        for letter in self.letters]\n",
    "        print(f'Настройки:\\nКол-во эпох - {epoch}\\nСкорость - {speed}')\n",
    "\n",
    "    def take_datas(self):\n",
    "        for letter in self.letters:\n",
    "            for i in range(4):  # 4 - количество образов буквы\n",
    "                file_name = f'letters/{letter}{i+1}.png'\n",
    "                image = img.open(working_dir/file_name)\n",
    "                data = image.convert('RGBA').getdata()\n",
    "                self.letters_data.append(data)\n",
    "\n",
    "    def tuples_to_mtx(self, data):\n",
    "        result = [[]]\n",
    "        i, j = 0, 0\n",
    "        for item in data:\n",
    "            if j == 32:\n",
    "                result.append([])\n",
    "                i += 1\n",
    "                j = 0\n",
    "            if item[0] == 0 and item[1] == 0 and item[2] == 0 and item[3] == 255:\n",
    "                result[i].append(1)\n",
    "                j += 1\n",
    "            else:\n",
    "                result[i].append(0)\n",
    "                j += 1\n",
    "        return result\n",
    "\n",
    "    def show_weights(self):\n",
    "        for i, l in enumerate(self.letters):\n",
    "            print(f'Neuron {l}:')\n",
    "            plt.imshow(self.neurons[i].weights)\n",
    "            plt.show()\n",
    "\n",
    "    def train(self):\n",
    "        for __ in range(self.epoch):\n",
    "            # q\n",
    "            for index in range(4):\n",
    "                for neuron in self.neurons:\n",
    "                    neuron.learn(self.mtxs[index], self.letters[0])\n",
    "            # h\n",
    "            for index in range(4, 8):\n",
    "                for neuron in self.neurons:\n",
    "                    neuron.learn(self.mtxs[index], self.letters[1])\n",
    "            # i\n",
    "            for index in range(8, 12):\n",
    "                for neuron in self.neurons:\n",
    "                    neuron.learn(self.mtxs[index], self.letters[2])\n",
    "            # w\n",
    "            for index in range(12, 16):\n",
    "                for neuron in self.neurons:\n",
    "                    neuron.learn(self.mtxs[index], self.letters[3])\n",
    "\n",
    "    def test(self):\n",
    "        datas = []\n",
    "        for letter in self.letters:\n",
    "            file_name = f'letters/{letter}_test.png'\n",
    "            image = img.open(working_dir/file_name)\n",
    "            datas.append(image.convert('RGBA').getdata())\n",
    "            \n",
    "        self.test_pic = []\n",
    "        for data in datas:\n",
    "            result = [[]]\n",
    "            i, j = 0, 0\n",
    "            for item in data:\n",
    "                if j == 32:\n",
    "                    result.append([])\n",
    "                    i += 1\n",
    "                    j = 0\n",
    "                if item[0] == 0 and item[1] == 0 and item[2] == 0 and item[3] == 255:\n",
    "                    result[i].append(1)\n",
    "                    j += 1\n",
    "                else:\n",
    "                    result[i].append(0)\n",
    "                    j += 1\n",
    "            self.test_pic.append(result)\n",
    "        \n",
    "        k = 0\n",
    "        for pic in self.test_pic:\n",
    "            print(f'THIS WAS A {self.letters[k]}')\n",
    "            print('Network result:')\n",
    "            for neuron in self.neurons:\n",
    "                if neuron.testing(pic):\n",
    "                    print(f'This is {neuron.name}')\n",
    "                else:\n",
    "                    print(f'This isnot {neuron.name}')\n",
    "            print()\n",
    "            k+=1\n"
   ]
  },
  {
   "attachments": {},
   "cell_type": "markdown",
   "metadata": {},
   "source": [
    "#### Инициализируется нейронная сеть нейронная сеть"
   ]
  },
  {
   "cell_type": "code",
   "execution_count": 12,
   "metadata": {},
   "outputs": [
    {
     "name": "stdout",
     "output_type": "stream",
     "text": [
      "Настройки:\n",
      "Кол-во эпох - 100\n",
      "Скорость - 0.01\n"
     ]
    }
   ],
   "source": [
    "network = Network(0.01, 0.5, 100)"
   ]
  },
  {
   "attachments": {},
   "cell_type": "markdown",
   "metadata": {},
   "source": [
    "#### Запускается тренировка нейронной сети и выводятся веса"
   ]
  },
  {
   "cell_type": "code",
   "execution_count": 13,
   "metadata": {},
   "outputs": [
    {
     "name": "stdout",
     "output_type": "stream",
     "text": [
      "Neuron q:\n"
     ]
    },
    {
     "data": {
      "image/png": "[encoded data removed]",
      "text/plain": [
       "<Figure size 640x480 with 1 Axes>"
      ]
     },
     "metadata": {},
     "output_type": "display_data"
    },
    {
     "name": "stdout",
     "output_type": "stream",
     "text": [
      "Neuron h:\n"
     ]
    },
    {
     "data": {
      "image/png": "[encoded data removed]",
      "text/plain": [
       "<Figure size 640x480 with 1 Axes>"
      ]
     },
     "metadata": {},
     "output_type": "display_data"
    },
    {
     "name": "stdout",
     "output_type": "stream",
     "text": [
      "Neuron i:\n"
     ]
    },
    {
     "data": {
      "image/png": "[encoded data removed]",
      "text/plain": [
       "<Figure size 640x480 with 1 Axes>"
      ]
     },
     "metadata": {},
     "output_type": "display_data"
    },
    {
     "name": "stdout",
     "output_type": "stream",
     "text": [
      "Neuron w:\n"
     ]
    },
    {
     "data": {
      "image/png": "[encoded data removed]",
      "text/plain": [
       "<Figure size 640x480 with 1 Axes>"
      ]
     },
     "metadata": {},
     "output_type": "display_data"
    }
   ],
   "source": [
    "network.train()\n",
    "network.show_weights()"
   ]
  },
  {
   "attachments": {},
   "cell_type": "markdown",
   "metadata": {},
   "source": [
    "#### Проверка работы нейронной сети."
   ]
  },
  {
   "cell_type": "code",
   "execution_count": 9,
   "metadata": {},
   "outputs": [
    {
     "name": "stdout",
     "output_type": "stream",
     "text": [
      "THIS WAS A q\n",
      "Network result:\n",
      "This is q\n",
      "This is h\n",
      "This isnot i\n",
      "This isnot w\n",
      "\n",
      "THIS WAS A h\n",
      "Network result:\n",
      "This isnot q\n",
      "This is h\n",
      "This isnot i\n",
      "This is w\n",
      "\n",
      "THIS WAS A i\n",
      "Network result:\n",
      "This isnot q\n",
      "This isnot h\n",
      "This is i\n",
      "This isnot w\n",
      "\n",
      "THIS WAS A w\n",
      "Network result:\n",
      "This isnot q\n",
      "This isnot h\n",
      "This isnot i\n",
      "This isnot w\n",
      "\n"
     ]
    }
   ],
   "source": [
    "network.test()"
   ]
  },
  {
   "attachments": {},
   "cell_type": "markdown",
   "metadata": {},
   "source": [
    "### Вывод.\n",
    "#### В ходе выполнения данной лабораторной работы, я научился реализовывать Обучение однослойного персептрона методом коррекции по ошибке через дельта-правило. Проверка на разных test картинках показало, что точность определения составила около 80%."
   ]
  }
 ],
 "metadata": {
  "kernelspec": {
   "display_name": "Python 3",
   "language": "python",
   "name": "python3"
  },
  "language_info": {
   "codemirror_mode": {
    "name": "ipython",
    "version": 3
   },
   "file_extension": ".py",
   "mimetype": "text/x-python",
   "name": "python",
   "nbconvert_exporter": "python",
   "pygments_lexer": "ipython3",
   "version": "3.11.1"
  },
  "orig_nbformat": 4,
  "vscode": {
   "interpreter": {
    "hash": "5238573367df39f7286bb46f9ff5f08f63a01a80960060ce41e3c79b190280fa"
   }
  }
 },
 "nbformat": 4,
 "nbformat_minor": 2
}
