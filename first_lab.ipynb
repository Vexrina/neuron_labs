{
 "cells": [
  {
   "cell_type": "code",
   "execution_count": 376,
   "metadata": {},
   "outputs": [
    {
     "name": "stdout",
     "output_type": "stream",
     "text": [
      "C:\\Users\\Vexrina\\Desktop\\projects\\neuron_labs\n"
     ]
    }
   ],
   "source": [
    "import numpy as np\n",
    "# import matplotlib as plt\n",
    "import PIL.Image as img\n",
    "from pathlib import Path\n",
    "import math\n",
    "working_dir = Path().resolve()\n",
    "print(working_dir)"
   ]
  },
  {
   "cell_type": "code",
   "execution_count": 377,
   "metadata": {},
   "outputs": [],
   "source": [
    "def convert(file_name):\n",
    "    '''\n",
    "    Перевод png файла в массив тюплов RGBA\n",
    "    (red green blue alpha)\n",
    "    '''\n",
    "    image = img.open(working_dir/file_name)\n",
    "    return image.convert('RGBA').getdata()"
   ]
  },
  {
   "cell_type": "code",
   "execution_count": 378,
   "metadata": {},
   "outputs": [],
   "source": [
    "def take_datas(letters):\n",
    "    '''\n",
    "    Перевод всех изображений в матрицу и сохранений всех матриц в отдельный массив\n",
    "    '''\n",
    "    letters_data = []\n",
    "    for letter in letters:\n",
    "        for i in range(4): # 4 - количество образов буквы\n",
    "            data = convert(f'letters/{letter}{i+1}.png')\n",
    "            letters_data.append(data)\n",
    "    return letters_data"
   ]
  },
  {
   "cell_type": "code",
   "execution_count": 379,
   "metadata": {},
   "outputs": [],
   "source": [
    "letters = ['q','h','i','w'] # буквы, для которых составлены образы\n",
    "\n",
    "datas = take_datas(letters)\n",
    "# print(len(datas))\n",
    "def tuples_to_mtx(data:list[tuple])->list[list[int]]:\n",
    "    '''\n",
    "    Конвентирует массив тюплов в матрицу, \n",
    "    где ТОЛЬКО черный цвет с alpha=255 - единица,\n",
    "    а любое другое значение - 0\n",
    "    '''\n",
    "    result = [[]]\n",
    "    i, j = 0, 0\n",
    "    for item in data:\n",
    "        if j == 32:\n",
    "            result.append([])\n",
    "            i+=1\n",
    "            j=0\n",
    "        if item[0] == 0 and item[1] == 0 and item[2] == 0 and item[3] == 255:\n",
    "            result[i].append(1)\n",
    "            j+=1\n",
    "        else:\n",
    "            result[i].append(0)\n",
    "            j+=1\n",
    "    return result\n"
   ]
  },
  {
   "cell_type": "code",
   "execution_count": 380,
   "metadata": {},
   "outputs": [],
   "source": [
    "mtxs=[]\n",
    "for data in datas:\n",
    "    mtxs.append(tuples_to_mtx(data))"
   ]
  },
  {
   "cell_type": "code",
   "execution_count": 381,
   "metadata": {},
   "outputs": [],
   "source": [
    "def print_mtx(mtx):\n",
    "    for row in mtx:\n",
    "        print(row)\n",
    "\n",
    "def mtx_to_vector(mtx):\n",
    "    result = []\n",
    "    for row in mtx:\n",
    "        for item in row:\n",
    "            result.append(item)\n",
    "    return result"
   ]
  },
  {
   "cell_type": "code",
   "execution_count": 382,
   "metadata": {},
   "outputs": [],
   "source": [
    "class Neuron:\n",
    "    def sigmoid(self, x: float):\n",
    "        '''\n",
    "        функция активации, посоветовал знакомый ее\n",
    "        другой знакомый, сказал что лучше накатить софтмакс\n",
    "        '''\n",
    "        return 1 / (1 + math.exp(-x))\n",
    "\n",
    "    def softmax(self, array):\n",
    "        e_x = np.exp(array-np.max(array))\n",
    "        return e_x / e_x.sum(axis=0)\n",
    "\n",
    "    def __init__(\n",
    "            self, vectors, responses, epoch: int,\n",
    "            speed: float = np.random.uniform(low=0.05, high=1)\n",
    "    ):\n",
    "        '''\n",
    "        инициализация класса\n",
    "        Веса в диапазоне -0.03 до 0.03, матрица размером 4х1024\n",
    "        буквы - входные вектора буков\n",
    "        эпохи - эпохи\n",
    "        ответы - входные вектора ответов\n",
    "        скорость - рандомное число в диапазоне между 0.05 до 1.\n",
    "        '''\n",
    "        self.weight = np.random.uniform(low=-0.03, high=0.03, size=(4, 1024))\n",
    "        self.letters = vectors\n",
    "        self.epoch = epoch\n",
    "        self.responses = responses\n",
    "        self.speed = speed\n",
    "        print(f'Your setup:\\nepoch - {epoch}\\nspeed - {speed}')\n",
    "\n",
    "    def weight_sum(self, letter):\n",
    "        '''\n",
    "        Высчитываю произведение столбцов матрицы весов на входной вектор.\n",
    "        Если значение суммы таких произведений >0 то в функцию активации\n",
    "        передаю 1, в противном случае 0.\n",
    "        Высчитываю вектор \"ответа\" с помощью сигмоиды.\n",
    "        '''\n",
    "        self.sum_multiply = [0, 0, 0, 0]\n",
    "        for index in range(1024):\n",
    "            self.sum_multiply[0] += (self.weight[0][index]*letter[index])\n",
    "            self.sum_multiply[1] += (self.weight[1][index]*letter[index])\n",
    "            self.sum_multiply[2] += (self.weight[2][index]*letter[index])\n",
    "            self.sum_multiply[3] += (self.weight[3][index]*letter[index])\n",
    "\n",
    "        for i in range(4):\n",
    "            if self.sum_multiply[i] > 0:\n",
    "                self.sum_multiply[i] = 1\n",
    "            else:\n",
    "                self.sum_multiply[i] = 0\n",
    "\n",
    "        self.activate = self.softmax(self.sum_multiply)\n",
    "\n",
    "    def correction(self, index):\n",
    "        self.e = np.array([i-j for i, j in zip(self.responses[index], self.activate)])\n",
    "        self.delta = self.speed*self.e\n",
    "        self.delta_weight = np.outer(self.delta,self.letters[index])\n",
    "        self.weight = self.weight+self.delta_weight\n",
    "\n",
    "    def train(self):\n",
    "        '''\n",
    "        тестовый метод для тренировки\n",
    "        '''\n",
    "        # for __ in range(self.epoch):\n",
    "        epoch = 0\n",
    "        while (True):\n",
    "            epoch += 1\n",
    "            for index in range(4):\n",
    "                self.weight_sum(self.letters[index])\n",
    "                if self.activate[index] != self.responses[index][index]:\n",
    "                    self.correction(index)\n",
    "            if epoch % 1000 == 0:\n",
    "                print(f'epoch - {epoch}')\n",
    "                for index in range(4):\n",
    "                    self.weight_sum(self.letters[index])\n",
    "                    print(self.activate)\n",
    "                \n",
    "            if epoch % 5000 ==0:\n",
    "                break"
   ]
  },
  {
   "cell_type": "code",
   "execution_count": 383,
   "metadata": {},
   "outputs": [
    {
     "name": "stdout",
     "output_type": "stream",
     "text": [
      "Your setup:\n",
      "epoch - 500\n",
      "speed - 0.8787312842498238\n",
      "epoch - 1000\n",
      "[0.47536689 0.1748777  0.1748777  0.1748777 ]\n",
      "[0.1748777  0.47536689 0.1748777  0.1748777 ]\n",
      "[0.1748777  0.1748777  0.47536689 0.1748777 ]\n",
      "[0.1748777  0.1748777  0.1748777  0.47536689]\n",
      "epoch - 2000\n",
      "[0.47536689 0.1748777  0.1748777  0.1748777 ]\n",
      "[0.1748777  0.47536689 0.1748777  0.1748777 ]\n",
      "[0.1748777  0.1748777  0.47536689 0.1748777 ]\n",
      "[0.1748777  0.1748777  0.1748777  0.47536689]\n",
      "epoch - 3000\n",
      "[0.47536689 0.1748777  0.1748777  0.1748777 ]\n",
      "[0.1748777  0.47536689 0.1748777  0.1748777 ]\n",
      "[0.1748777  0.1748777  0.47536689 0.1748777 ]\n",
      "[0.1748777  0.1748777  0.1748777  0.47536689]\n",
      "epoch - 4000\n",
      "[0.47536689 0.1748777  0.1748777  0.1748777 ]\n",
      "[0.1748777  0.47536689 0.1748777  0.1748777 ]\n",
      "[0.1748777  0.1748777  0.47536689 0.1748777 ]\n",
      "[0.1748777  0.1748777  0.1748777  0.47536689]\n",
      "epoch - 5000\n",
      "[0.47536689 0.1748777  0.1748777  0.1748777 ]\n",
      "[0.1748777  0.47536689 0.1748777  0.1748777 ]\n",
      "[0.1748777  0.1748777  0.47536689 0.1748777 ]\n",
      "[0.1748777  0.1748777  0.1748777  0.47536689]\n"
     ]
    }
   ],
   "source": [
    "vector = []\n",
    "response = []\n",
    "for i in range(0,16,4):\n",
    "    vector.append(mtx_to_vector(mtxs[i]))\n",
    "\n",
    "for i in range(4):\n",
    "    temp = []\n",
    "    for j in range(4):\n",
    "        if j==i:\n",
    "            temp.append(1)\n",
    "        else:\n",
    "            temp.append(0)\n",
    "    response.append(temp)\n",
    "\n",
    "\n",
    "N = Neuron(vectors=vector, responses=response, epoch=500)\n",
    "\n",
    "import time\n",
    "\n",
    "N.train()"
   ]
  }
 ],
 "metadata": {
  "kernelspec": {
   "display_name": "Python 3",
   "language": "python",
   "name": "python3"
  },
  "language_info": {
   "codemirror_mode": {
    "name": "ipython",
    "version": 3
   },
   "file_extension": ".py",
   "mimetype": "text/x-python",
   "name": "python",
   "nbconvert_exporter": "python",
   "pygments_lexer": "ipython3",
   "version": "3.11.1"
  },
  "orig_nbformat": 4,
  "vscode": {
   "interpreter": {
    "hash": "e7370f93d1d0cde622a1f8e1c04877d8463912d04d973331ad4851f04de6915a"
   }
  }
 },
 "nbformat": 4,
 "nbformat_minor": 2
}
