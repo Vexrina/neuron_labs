{
 "cells": [
  {
   "cell_type": "code",
   "execution_count": 55,
   "metadata": {},
   "outputs": [
    {
     "name": "stdout",
     "output_type": "stream",
     "text": [
      "C:\\Users\\Vexrina\\Desktop\\projects\\neuron_labs\n"
     ]
    }
   ],
   "source": [
    "import numpy as np\n",
    "# import matplotlib as plt\n",
    "import PIL.Image as img\n",
    "from pathlib import Path\n",
    "import matplotlib.pyplot as plt\n",
    "working_dir = Path().resolve()\n",
    "print(working_dir)"
   ]
  },
  {
   "cell_type": "code",
   "execution_count": 56,
   "metadata": {},
   "outputs": [],
   "source": [
    "def show_mtx(mtx):\n",
    "    plt.imshow(mtx, cmap='gray')\n",
    "    plt.show()"
   ]
  },
  {
   "cell_type": "code",
   "execution_count": 57,
   "metadata": {},
   "outputs": [],
   "source": [
    "class Neuron:\n",
    "    def __init__(\n",
    "            self, name:str, \n",
    "            thetta: float = np.random.uniform(low=0.05, high=1),\n",
    "            speed: float = np.random.uniform(low=0.05, high=1)\n",
    "    ):\n",
    "        '''\n",
    "        инициализация класса\n",
    "        Веса в диапазоне -0.03 до 0.03, матрица размером 4х1024\n",
    "        имя - какая буква пришла на вход\n",
    "        эпохи - эпохи\n",
    "        ответы - входные вектора ответов\n",
    "        скорость - рандомное число в диапазоне между 0.05 до 1.\n",
    "        '''\n",
    "        self.weights = np.random.uniform(low=-0.0003, high=0.0003, size=(32,32))\n",
    "        self.name = name\n",
    "        self.speed = speed\n",
    "        self.thetta = thetta\n",
    "\n",
    "    def activation(self, sum):\n",
    "        return sum>=self.thetta\n",
    "\n",
    "    def learn(self, mtx, realname):\n",
    "        summary = np.sum(self.weights.dot(mtx))\n",
    "        activate = self.activation(summary)\n",
    "        if activate and self.name != realname:\n",
    "            self.weights -= np.dot(self.speed, mtx) # error 0-1=-1\n",
    "        elif not activate and self.name == realname:\n",
    "            self.weights += np.dot(self.speed, mtx) # error 1-0=+1\n",
    "        # if error 1-1=0 (want 1, result 1) we cant create new weights, bc error = 0, so\n",
    "        # secont multi = speed*0*weight = 0.\n",
    "    \n",
    "    def testing(self, mtx):\n",
    "        summary = np.sum(self.weights.dot(mtx))\n",
    "        if self.activation(summary):\n",
    "            return True\n",
    "        else:\n",
    "            return False\n",
    "        \n",
    "    '''\n",
    "    TODO:\n",
    "    Тренировка по эпохам\n",
    "    Тренировка по результатам\n",
    "    Тренировка по весам\n",
    "    '''"
   ]
  },
  {
   "cell_type": "code",
   "execution_count": 58,
   "metadata": {},
   "outputs": [],
   "source": [
    "class Network():\n",
    "    def __init__(\n",
    "            self,\n",
    "            speed: float = np.random.uniform(low=0.05, high=1),\n",
    "            thetta: float = np.random.uniform(low=0.05, high=1),\n",
    "            epoch: int = 50\n",
    "    ):\n",
    "        self.letters = ['q', 'h', 'i', 'w']\n",
    "        self.letters_data = []\n",
    "        self.mtxs = []\n",
    "        self.take_datas()\n",
    "        for data in self.letters_data:\n",
    "            self.mtxs.append(self.tuples_to_mtx(data))\n",
    "        self.epoch = epoch\n",
    "        self.neurons = [Neuron(letter, thetta=thetta, speed=speed)\n",
    "                        for letter in self.letters]\n",
    "        print(f'Настройки:\\nКол-во эпох - {epoch}\\nСкорость - {speed}')\n",
    "\n",
    "    def take_datas(self):\n",
    "        '''\n",
    "        Перевод всех изображений в матрицу и сохранений всех матриц в отдельный массив\n",
    "        '''\n",
    "        for letter in self.letters:\n",
    "            for i in range(4):  # 4 - количество образов буквы\n",
    "                file_name = f'letters/{letter}{i+1}.png'\n",
    "                image = img.open(working_dir/file_name)\n",
    "                data = image.convert('RGBA').getdata()\n",
    "                self.letters_data.append(data)\n",
    "\n",
    "    def tuples_to_mtx(self, data):\n",
    "        '''\n",
    "        Конвентирует массив тюплов в матрицу, \n",
    "        где ТОЛЬКО черный цвет с alpha=255 - единица,\n",
    "        а любое другое значение - 0\n",
    "        '''\n",
    "        result = [[]]\n",
    "        i, j = 0, 0\n",
    "        for item in data:\n",
    "            if j == 32:\n",
    "                result.append([])\n",
    "                i += 1\n",
    "                j = 0\n",
    "            if item[0] == 0 and item[1] == 0 and item[2] == 0 and item[3] == 255:\n",
    "                result[i].append(1)\n",
    "                j += 1\n",
    "            else:\n",
    "                result[i].append(0)\n",
    "                j += 1\n",
    "        return result\n",
    "\n",
    "    def show_weights(self):\n",
    "        for i, l in enumerate(self.letters):\n",
    "            print(f'Neuron {l}:')\n",
    "            plt.imshow(self.neurons[i].weights, cmap='gray')\n",
    "            plt.show()\n",
    "\n",
    "    def train(self):\n",
    "        for __ in range(self.epoch):\n",
    "            # q\n",
    "            for index in range(4):\n",
    "                for neuron in self.neurons:\n",
    "                    neuron.learn(self.mtxs[index], self.letters[0])\n",
    "                    # print('was here')\n",
    "            # h\n",
    "            for index in range(4, 8):\n",
    "                for neuron in self.neurons:\n",
    "                    neuron.learn(self.mtxs[index], self.letters[1])\n",
    "            # i\n",
    "            for index in range(8, 12):\n",
    "                for neuron in self.neurons:\n",
    "                    neuron.learn(self.mtxs[index], self.letters[2])\n",
    "            # w\n",
    "            for index in range(12, 16):\n",
    "                for neuron in self.neurons:\n",
    "                    neuron.learn(self.mtxs[index], self.letters[3])\n",
    "\n",
    "    def test(self):\n",
    "        datas = []\n",
    "        for letter in self.letters:\n",
    "            file_name = f'letters/{letter}_test.png'\n",
    "            image = img.open(working_dir/file_name)\n",
    "            datas.append(image.convert('RGBA').getdata())\n",
    "            \n",
    "        self.test_pic = []\n",
    "        for data in datas:\n",
    "            result = [[]]\n",
    "            i, j = 0, 0\n",
    "            for item in data:\n",
    "                if j == 32:\n",
    "                    result.append([])\n",
    "                    i += 1\n",
    "                    j = 0\n",
    "                if item[0] == 0 and item[1] == 0 and item[2] == 0 and item[3] == 255:\n",
    "                    result[i].append(1)\n",
    "                    j += 1\n",
    "                else:\n",
    "                    result[i].append(0)\n",
    "                    j += 1\n",
    "            self.test_pic.append(result)\n",
    "        \n",
    "        k = 0\n",
    "        for pic in self.test_pic:\n",
    "            print(f'THIS WAS A {self.letters[k]}')\n",
    "            print('Network result:')\n",
    "            for neuron in self.neurons:\n",
    "                if neuron.testing(pic):\n",
    "                    print(f'This is {neuron.name}')\n",
    "                else:\n",
    "                    print(f'This isnot {neuron.name}')\n",
    "            print()\n",
    "            k+=1\n"
   ]
  },
  {
   "cell_type": "code",
   "execution_count": 59,
   "metadata": {},
   "outputs": [
    {
     "name": "stdout",
     "output_type": "stream",
     "text": [
      "Настройки:\n",
      "Кол-во эпох - 50\n",
      "Скорость - 0.5\n"
     ]
    }
   ],
   "source": [
    "network = Network(0.5, 0.5, 50)\n",
    "# print(f'{len(network.mtxs[0][0])}x{len(network.mtxs[0])}')\n",
    "# print(f'{len(network.neurons[0].weights[0])}x{len(network.neurons[0].weights)}')"
   ]
  },
  {
   "cell_type": "code",
   "execution_count": 60,
   "metadata": {},
   "outputs": [
    {
     "name": "stdout",
     "output_type": "stream",
     "text": [
      "Neuron q:\n"
     ]
    },
    {
     "data": {
      "image/png": "[encoded data removed]",
      "text/plain": [
       "<Figure size 640x480 with 1 Axes>"
      ]
     },
     "metadata": {},
     "output_type": "display_data"
    },
    {
     "name": "stdout",
     "output_type": "stream",
     "text": [
      "Neuron h:\n"
     ]
    },
    {
     "data": {
      "image/png": "[encoded data removed]",
      "text/plain": [
       "<Figure size 640x480 with 1 Axes>"
      ]
     },
     "metadata": {},
     "output_type": "display_data"
    },
    {
     "name": "stdout",
     "output_type": "stream",
     "text": [
      "Neuron i:\n"
     ]
    },
    {
     "data": {
      "image/png": "[encoded data removed]",
      "text/plain": [
       "<Figure size 640x480 with 1 Axes>"
      ]
     },
     "metadata": {},
     "output_type": "display_data"
    },
    {
     "name": "stdout",
     "output_type": "stream",
     "text": [
      "Neuron w:\n"
     ]
    },
    {
     "data": {
      "image/png": "[encoded data removed]",
      "text/plain": [
       "<Figure size 640x480 with 1 Axes>"
      ]
     },
     "metadata": {},
     "output_type": "display_data"
    }
   ],
   "source": [
    "network.train()\n",
    "network.show_weights()"
   ]
  },
  {
   "cell_type": "code",
   "execution_count": 61,
   "metadata": {},
   "outputs": [
    {
     "name": "stdout",
     "output_type": "stream",
     "text": [
      "4\n",
      "THIS WAS A q\n",
      "Network result:\n",
      "This isnot q\n",
      "This is h\n",
      "This isnot i\n",
      "This isnot w\n",
      "\n",
      "THIS WAS A h\n",
      "Network result:\n",
      "This isnot q\n",
      "This is h\n",
      "This isnot i\n",
      "This isnot w\n",
      "\n",
      "THIS WAS A i\n",
      "Network result:\n",
      "This isnot q\n",
      "This isnot h\n",
      "This is i\n",
      "This isnot w\n",
      "\n",
      "THIS WAS A w\n",
      "Network result:\n",
      "This isnot q\n",
      "This isnot h\n",
      "This isnot i\n",
      "This isnot w\n",
      "\n"
     ]
    }
   ],
   "source": [
    "network.test()"
   ]
  }
 ],
 "metadata": {
  "kernelspec": {
   "display_name": "Python 3",
   "language": "python",
   "name": "python3"
  },
  "language_info": {
   "codemirror_mode": {
    "name": "ipython",
    "version": 3
   },
   "file_extension": ".py",
   "mimetype": "text/x-python",
   "name": "python",
   "nbconvert_exporter": "python",
   "pygments_lexer": "ipython3",
   "version": "3.11.1"
  },
  "orig_nbformat": 4,
  "vscode": {
   "interpreter": {
    "hash": "e7370f93d1d0cde622a1f8e1c04877d8463912d04d973331ad4851f04de6915a"
   }
  }
 },
 "nbformat": 4,
 "nbformat_minor": 2
}
